{
 "cells": [
  {
   "cell_type": "code",
   "execution_count": 3,
   "id": "f0ca1af8",
   "metadata": {},
   "outputs": [
    {
     "name": "stdout",
     "output_type": "stream",
     "text": [
      "25\n"
     ]
    }
   ],
   "source": [
    "x=lambda a : a*a\n",
    "print(x(5))"
   ]
  },
  {
   "cell_type": "code",
   "execution_count": 2,
   "id": "213ae714",
   "metadata": {},
   "outputs": [
    {
     "name": "stdout",
     "output_type": "stream",
     "text": [
      "50\n"
     ]
    }
   ],
   "source": [
    "def sqr (n):\n",
    "    return(lambda a:a*n)\n",
    "x=sqr(10)\n",
    "print(x(5))"
   ]
  },
  {
   "cell_type": "code",
   "execution_count": 11,
   "id": "6bd6ad96",
   "metadata": {},
   "outputs": [
    {
     "name": "stdout",
     "output_type": "stream",
     "text": [
      "4\n",
      "25\n"
     ]
    }
   ],
   "source": [
    "def sqr(n):\n",
    "    return(n*n);\n",
    "l=[2,3,4,5,6,7,8]\n",
    "print(sqr(l[0]))\n",
    "print(sqr(l[3]))"
   ]
  },
  {
   "cell_type": "code",
   "execution_count": 14,
   "id": "2012a639",
   "metadata": {},
   "outputs": [
    {
     "name": "stdout",
     "output_type": "stream",
     "text": [
      "[4, 9, 16, 25, 36, 49, 64]\n",
      "(4, 9, 16, 25, 36, 49, 64)\n"
     ]
    }
   ],
   "source": [
    "def sqr(n):\n",
    "    return(n*n);\n",
    "l=[2,3,4,5,6,7,8]\n",
    "t=(2,3,4,5,6,7,8)\n",
    "a=list(map(sqr,l))\n",
    "b=tuple(map(sqr,t))\n",
    "print(a)\n",
    "print(b)\n"
   ]
  },
  {
   "cell_type": "code",
   "execution_count": null,
   "id": "649b786d",
   "metadata": {},
   "outputs": [],
   "source": [
    "#map=\n",
    "#filter="
   ]
  },
  {
   "cell_type": "code",
   "execution_count": 20,
   "id": "405cf587",
   "metadata": {},
   "outputs": [
    {
     "name": "stdout",
     "output_type": "stream",
     "text": [
      "(1, 4, 49)\n"
     ]
    }
   ],
   "source": [
    "def sqr(n):\n",
    "    return(n*n)\n",
    "d={\"a\":1,\"b\":2,\"c\":7}\n",
    "ans=tuple(map(sqr,d.values()))\n",
    "print(ans)"
   ]
  },
  {
   "cell_type": "code",
   "execution_count": 24,
   "id": "4e73f3c6",
   "metadata": {},
   "outputs": [
    {
     "name": "stdout",
     "output_type": "stream",
     "text": [
      "(1, 2, 7)\n"
     ]
    }
   ],
   "source": [
    "def sqr(n):\n",
    "    return(n*n)\n",
    "d={\"a\":1,\"b\":2,\"c\":7}\n",
    "ans=tuple(map(sqr,d.values()))\n",
    "#print(ans)\n",
    "ans=tuple(filter(sqr,d.values()))\n",
    "print(ans)"
   ]
  },
  {
   "cell_type": "code",
   "execution_count": null,
   "id": "d435a9de",
   "metadata": {},
   "outputs": [],
   "source": [
    "def checkeven(n):\n",
    "    if(n%2)=0:\n",
    "        if(n%2)==0:\n",
    "            return True:\n",
    "        else\n",
    "            return False:\n",
    "l=[1,5,8,print"
   ]
  },
  {
   "cell_type": "code",
   "execution_count": null,
   "id": "04a01c07",
   "metadata": {},
   "outputs": [],
   "source": [
    "\"\"\"\"def fun(f,d,e):\n",
    "    def fun2():\n",
    "        f(d,e):\n",
    "        print(\"in function2\"):\n",
    "    print(\"in function1\"):\n",
    "    return fun2:\n",
    "def add(n,s):\n",
    "    return(n+s):\n",
    "a=fun(add)\n",
    "print(a)\"\"\"\n",
    "    "
   ]
  },
  {
   "cell_type": "code",
   "execution_count": null,
   "id": "58785bb6",
   "metadata": {},
   "outputs": [],
   "source": []
  }
 ],
 "metadata": {
  "kernelspec": {
   "display_name": "Python 3 (ipykernel)",
   "language": "python",
   "name": "python3"
  },
  "language_info": {
   "codemirror_mode": {
    "name": "ipython",
    "version": 3
   },
   "file_extension": ".py",
   "mimetype": "text/x-python",
   "name": "python",
   "nbconvert_exporter": "python",
   "pygments_lexer": "ipython3",
   "version": "3.9.7"
  }
 },
 "nbformat": 4,
 "nbformat_minor": 5
}
